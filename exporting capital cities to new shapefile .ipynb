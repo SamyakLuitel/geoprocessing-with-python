{
 "cells": [
  {
   "cell_type": "code",
   "execution_count": 1,
   "metadata": {},
   "outputs": [],
   "source": [
    "import sys\n",
    "from osgeo import ogr "
   ]
  },
  {
   "cell_type": "code",
   "execution_count": 2,
   "metadata": {},
   "outputs": [],
   "source": [
    "ds = ogr.Open(r\"/home/samyak/Documents/Geoprocessing with python/data/osgeopy-data-global/osgeopy-data/global\",1)\n"
   ]
  },
  {
   "cell_type": "code",
   "execution_count": 3,
   "metadata": {},
   "outputs": [],
   "source": [
    "if ds is None :\n",
    "    sys.exit(\"could not open folder\")\n",
    "in_lyr = ds.GetLayer(\"ne_50m_populated_places\")"
   ]
  },
  {
   "cell_type": "code",
   "execution_count": 4,
   "metadata": {},
   "outputs": [],
   "source": [
    "if ds.GetLayer(\"capital_cities\"):\n",
    "    ds.DeleteLayer(\"capital_cities\")\n",
    "out_lyr = ds.CreateLayer(\"capital_cities\",in_lyr.GetSpatialRef(),ogr.wkbPoint)\n"
   ]
  },
  {
   "cell_type": "code",
   "execution_count": 5,
   "metadata": {},
   "outputs": [],
   "source": [
    "out_lyr.CreateFields(in_lyr.schema)"
   ]
  },
  {
   "cell_type": "code",
   "execution_count": 6,
   "metadata": {},
   "outputs": [],
   "source": [
    "out_defn = out_lyr.GetLayerDefn()\n",
    "out_feat = ogr.Feature(out_defn)\n"
   ]
  },
  {
   "cell_type": "code",
   "execution_count": 7,
   "metadata": {},
   "outputs": [],
   "source": [
    "for in_feat in in_lyr:\n",
    "    if in_feat.GetField('FEATURECLA') == 'Admin-0 capital':\n",
    "        geom = in_feat.geometry()\n",
    "        out_feat.SetGeometry(geom)\n",
    "        \n",
    "        for i in range(in_feat.GetFieldCount()):\n",
    "            value = in_feat.GetField(i)\n",
    "            out_feat.SetField(i, value)\n",
    "        out_lyr.CreateFeature(out_feat)\n",
    "del ds"
   ]
  },
  {
   "cell_type": "code",
   "execution_count": null,
   "metadata": {},
   "outputs": [],
   "source": []
  },
  {
   "cell_type": "code",
   "execution_count": null,
   "metadata": {},
   "outputs": [],
   "source": []
  },
  {
   "cell_type": "code",
   "execution_count": null,
   "metadata": {},
   "outputs": [],
   "source": []
  },
  {
   "cell_type": "code",
   "execution_count": null,
   "metadata": {},
   "outputs": [],
   "source": []
  }
 ],
 "metadata": {
  "kernelspec": {
   "display_name": "Python 3",
   "language": "python",
   "name": "python3"
  },
  "language_info": {
   "codemirror_mode": {
    "name": "ipython",
    "version": 3
   },
   "file_extension": ".py",
   "mimetype": "text/x-python",
   "name": "python",
   "nbconvert_exporter": "python",
   "pygments_lexer": "ipython3",
   "version": "3.7.4"
  }
 },
 "nbformat": 4,
 "nbformat_minor": 2
}
